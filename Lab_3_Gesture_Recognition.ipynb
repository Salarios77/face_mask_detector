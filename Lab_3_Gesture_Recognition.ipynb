{
  "nbformat": 4,
  "nbformat_minor": 0,
  "metadata": {
    "colab": {
      "name": "Lab_3_Gesture_Recognition.ipynb",
      "provenance": [],
      "collapsed_sections": [],
      "include_colab_link": true
    },
    "kernelspec": {
      "display_name": "Python 3",
      "language": "python",
      "name": "python3"
    },
    "language_info": {
      "codemirror_mode": {
        "name": "ipython",
        "version": 3
      },
      "file_extension": ".py",
      "mimetype": "text/x-python",
      "name": "python",
      "nbconvert_exporter": "python",
      "pygments_lexer": "ipython3",
      "version": "3.7.4"
    },
    "accelerator": "GPU"
  },
  "cells": [
    {
      "cell_type": "markdown",
      "metadata": {
        "id": "view-in-github",
        "colab_type": "text"
      },
      "source": [
        "<a href=\"https://colab.research.google.com/github/sherrychen127/face_mask_detector/blob/master/Lab_3_Gesture_Recognition.ipynb\" target=\"_parent\"><img src=\"https://colab.research.google.com/assets/colab-badge.svg\" alt=\"Open In Colab\"/></a>"
      ]
    },
    {
      "cell_type": "markdown",
      "metadata": {
        "id": "X6WDvajSqIDs"
      },
      "source": [
        "# Lab 3: Gesture Recognition using Convolutional Neural Networks\n",
        "\n",
        "**Deadlines**: \n",
        "\n",
        "- Lab 3 Part A: Oct 15, 11:59pm\n",
        "- Lab 3 Part B: Oct 22, 11:59pm\n",
        "\n",
        "**Late Penalty**: There is a penalty-free grace period of one hour past the deadline. Any work that is submitted between 1 hour and 24 hours past the deadline will receive a 20% grade deduction. No other late work is accepted. Quercus submission time will be used, not your local computer time. You can submit your labs as many times as you want before the deadline, so please submit often and early.\n",
        "\n",
        "**Grading TAs**: \n",
        "- Lab 3 Part A: Geoff Donoghue  \n",
        "- Lab 3 Part B: Geoff Donoghue\n",
        "\n",
        "This lab is based on an assignment developed by Prof. Lisa Zhang.\n",
        "\n",
        "This lab will be completed in two parts. In Part A you will you will gain experience gathering your own data set (specifically images of hand gestures), and understand the challenges involved in the data cleaning process. In Part B you will train a convolutional neural network to make classifications on different hand gestures. By the end of the lab, you should be able to:\n",
        "\n",
        "1. Generate and preprocess your own data\n",
        "2. Load and split data for training, validation and testing\n",
        "3. Train a Convolutional Neural Network\n",
        "4. Apply transfer learning to improve your model\n",
        "\n",
        "Note that for this lab we will not be providing you with any starter code. You should be able to take the code used in previous labs, tutorials and lectures and modify it accordingly to complete the tasks outlined below.\n",
        "\n",
        "### What to submit\n",
        "\n",
        "**Submission for Part A:**  \n",
        "Submit a zip file containing your images. Three images each of American Sign Language gestures for letters A - I (total of 27 images). You will be required to clean the images before submitting them. Details are provided under Part A of the handout.\n",
        "\n",
        "Individual image file names should follow the convention of student-number_Alphabet_file-number.jpg\n",
        "(e.g. 100343434_A_1.jpg).\n",
        "\n",
        "\n",
        "**Submission for Part B:**  \n",
        "Submit a PDF file containing all your code, outputs, and write-up\n",
        "from parts 1-5. You can produce a PDF of your Google Colab file by\n",
        "going to **File > Print** and then save as PDF. The Colab instructions\n",
        "has more information. Make sure to review the PDF submission to ensure that your answers are easy to read. Make sure that your text is not cut off at the margins. \n",
        "\n",
        "**Do not submit any other files produced by your code.**\n",
        "\n",
        "Include a link to your colab file in your submission.\n",
        "\n",
        "Please use Google Colab to complete this assignment. If you want to use Jupyter Notebook, please complete the assignment and upload your Jupyter Notebook file to Google Colab for submission. "
      ]
    },
    {
      "cell_type": "markdown",
      "metadata": {
        "id": "LfiFE_WOqIDu"
      },
      "source": [
        "## Colab Link\n",
        "\n",
        "Include a link to your colab file here\n",
        "\n",
        "Colab Link: https://drive.google.com/file/d/1IlLlCmFfk3QDOgog1odDQOpmHQLpIZe-/view?usp=sharing\n"
      ]
    },
    {
      "cell_type": "markdown",
      "metadata": {
        "id": "kvTXpH_kqIDy"
      },
      "source": [
        "## Part A. Data Collection [10 pt]\n",
        "\n",
        "So far, we have worked with data sets that have been collected, cleaned, and curated by machine learning\n",
        "researchers and practitioners. Datasets like MNIST and CIFAR are often used as toy examples, both by\n",
        "students and by researchers testing new machine learning models.\n",
        "\n",
        "In the real world, getting a clean data set is never that easy. More than half the work in applying machine\n",
        "learning is finding, gathering, cleaning, and formatting your data set.\n",
        "\n",
        "The purpose of this lab is to help you gain experience gathering your own data set, and understand the\n",
        "challenges involved in the data cleaning process.\n",
        "\n",
        "### American Sign Language\n",
        "\n",
        "American Sign Language (ASL) is a complete, complex language that employs signs made by moving the\n",
        "hands combined with facial expressions and postures of the body. It is the primary language of many\n",
        "North Americans who are deaf and is one of several communication options used by people who are deaf or\n",
        "hard-of-hearing.\n",
        "\n",
        "The hand gestures representing English alphabet are shown below. This lab focuses on classifying a subset\n",
        "of these hand gesture images using convolutional neural networks. Specifically, given an image of a hand\n",
        "showing one of the letters A-I, we want to detect which letter is being represented.\n",
        "\n",
        "![alt text](https://www.disabled-world.com/pics/1/asl-alphabet.jpg)\n",
        "\n",
        "\n",
        "### Generating Data\n",
        "We will produce the images required for this lab by ourselves. Each student will collect, clean and submit\n",
        "three images each of Americal Sign Language gestures for letters A - I (total of 27 images)\n",
        "Steps involved in data collection\n",
        "\n",
        "1. Familiarize yourself with American Sign Language gestures for letters from A - I (9 letters).\n",
        "2. Take three pictures at slightly different orientation for each letter gesture using your\n",
        "mobile phone.\n",
        " - Ensure adequate lighting while you are capturing the images.\n",
        " - Use a white wall as your background.\n",
        " - Use your right hand to create gestures (for consistency).\n",
        " - Keep your right hand fairly apart from your body and any other obstructions.\n",
        " - Avoid having shadows on parts of your hand.\n",
        "3. Transfer the images to your laptop for cleaning.\n",
        "\n",
        "### Cleaning Data\n",
        "To simplify the machine learning the task, we will standardize the training images. We will make sure that\n",
        "all our images are of the same size (224 x 224 pixels RGB), and have the hand in the center of the cropped\n",
        "regions.\n",
        "\n",
        "You may use the following applications to crop and resize your images:\n",
        "\n",
        "**Mac**\n",
        "- Use Preview:\n",
        "– Holding down CMD + Shift will keep a square aspect ratio while selecting the hand area.\n",
        "– Resize to 224x224 pixels.\n",
        "\n",
        "**Windows 10**\n",
        "- Use Photos app to edit and crop the image and keep the aspect ratio a square.\n",
        "- Use Paint to resize the image to the final image size of 224x224 pixels.\n",
        "\n",
        "**Linux**\n",
        "- You can use GIMP, imagemagick, or other tools of your choosing.\n",
        "You may also use online tools such as http://picresize.com\n",
        "All the above steps are illustrative only. You need not follow these steps but following these will ensure that\n",
        "you produce a good quality dataset. You will be judged based on the quality of the images alone.\n",
        "Please do not edit your photos in any other way. You should not need to change the aspect ratio of your\n",
        "image. You also should not digitally remove the background or shadows—instead, take photos with a white\n",
        "background and minimal shadows.\n",
        "\n",
        "### Accepted Images\n",
        "Images will be accepted and graded based on the criteria below\n",
        "1. The final image should be size 224x224 pixels (RGB).\n",
        "2. The file format should be a .jpg file.\n",
        "3. The hand should be approximately centered on the frame.\n",
        "4. The hand should not be obscured or cut off.\n",
        "5. The photos follows the ASL gestures posted earlier.\n",
        "6. The photos were not edited in any other way (e.g. no electronic removal of shadows or background).\n",
        "\n",
        "### Submission\n",
        "Submit a zip file containing your images. There should be a total of 27 images (3 for each category)\n",
        "1. Individual image file names should follow the convention of student-number_Alphabet_file-number.jpg\n",
        "(e.g. 100343434_A_1.jpg)\n",
        "2. Zip all the images together and name it with the following convention: last-name_student-number.zip\n",
        "(e.g. last-name_100343434.zip).\n",
        "3. Submit the zipped folder.\n",
        "We will be anonymizing and combining the images that everyone submits. We will announce when the\n",
        "combined data set will be available for download.\n",
        "\n",
        "![alt text](https://github.com/UTNeural/APS360/blob/master/Gesture%20Images.PNG?raw=true)"
      ]
    },
    {
      "cell_type": "markdown",
      "metadata": {
        "id": "bJxMgWGNqID2"
      },
      "source": [
        "## Part B. Building a CNN [50 pt]\n",
        "\n",
        "For this lab, we are not going to give you any starter code. You will be writing a convolutional neural network\n",
        "from scratch. You are welcome to use any code from previous labs, lectures and tutorials. You should also\n",
        "write your own code.\n",
        "\n",
        "You may use the PyTorch documentation freely. You might also find online tutorials helpful. However, all\n",
        "code that you submit must be your own.\n",
        "\n",
        "Make sure that your code is vectorized, and does not contain obvious inefficiencies (for example, unecessary\n",
        "for loops, or unnecessary calls to unsqueeze()). Ensure enough comments are included in the code so that\n",
        "your TA can understand what you are doing. It is your responsibility to show that you understand what you\n",
        "write.\n",
        "\n",
        "**This is much more challenging and time-consuming than the previous labs.** Make sure that you\n",
        "give yourself plenty of time by starting early."
      ]
    },
    {
      "cell_type": "markdown",
      "metadata": {
        "id": "MiDuQaAh56sT"
      },
      "source": [
        "### 1. Data Loading and Splitting [5 pt]\n",
        "\n",
        "Download the anonymized data provided on Quercus. To allow you to get a heads start on this project we will provide you with sample data from previous years. Split the data into training, validation, and test sets.\n",
        "\n",
        "Note: Data splitting is not as trivial in this lab. We want our test set to closely resemble the setting in which\n",
        "our model will be used. In particular, our test set should contain hands that are never seen in training!\n",
        "\n",
        "Explain how you split the data, either by describing what you did, or by showing the code that you used.\n",
        "Justify your choice of splitting strategy. How many training, validation, and test images do you have?\n",
        "\n",
        "For loading the data, you can use plt.imread as in Lab 1, or any other method that you choose. You may find\n",
        "torchvision.datasets.ImageFolder helpful. (see https://pytorch.org/docs/master/torchvision/datasets.html#imagefolder\n",
        ") "
      ]
    },
    {
      "cell_type": "code",
      "metadata": {
        "id": "WBrH5kBqRLa6"
      },
      "source": [
        "import os\n",
        "import glob\n",
        "import shutil\n",
        "import numpy as np\n",
        "import time\n",
        "import torch\n",
        "import torch.nn as nn\n",
        "import torch.nn.functional as F\n",
        "import torch.optim as optim\n",
        "import torchvision\n",
        "from torch.utils.data.sampler import SubsetRandomSampler\n",
        "import torchvision.transforms as transforms\n",
        "\n",
        "import matplotlib.pyplot as plt"
      ],
      "execution_count": null,
      "outputs": []
    },
    {
      "cell_type": "code",
      "metadata": {
        "id": "j-757G8s7fX7"
      },
      "source": [
        "from google.colab import drive\n",
        "drive.mount('/content/gdrive')\n",
        "dataset_path = '/content/gdrive/My Drive/Colab Notebooks/Lab_3b_Gesture_Dataset/'\n",
        "print(os.listdir('/content/gdrive/My Drive/Colab Notebooks/Lab_3b_Gesture_Dataset'))"
      ],
      "execution_count": null,
      "outputs": []
    },
    {
      "cell_type": "code",
      "metadata": {
        "id": "K1U279ur9Dyi"
      },
      "source": [
        "'''\n",
        "code that splits the data\n",
        "'''\n",
        "def make_train_val_splits():\n",
        "  dataset_d = {}\n",
        "  train_split = []\n",
        "  val_split = []\n",
        "  test_split = []\n",
        "  subfolders= [f.path for f in os.scandir(dataset_path) if f.is_dir()]\n",
        "  print(subfolders)\n",
        "  for folder in subfolders:\n",
        "    dataset_d[folder.split('/')[-1]] = glob.glob(os.path.join(folder, '*'))\n",
        "  total_len = 0\n",
        "  for classname in dataset_d:\n",
        "    cur_len = len(dataset_d[classname])\n",
        "    print(classname, cur_len)\n",
        "    train_end = int(np.floor(0.6*cur_len))\n",
        "    val_end = int(np.floor(0.8*cur_len))\n",
        "    total_len += cur_len\n",
        "    train_split.extend(dataset_d[classname][:train_end])\n",
        "    val_split.extend(dataset_d[classname][train_end:val_end])\n",
        "    test_split.extend(dataset_d[classname][val_end:])\n",
        "  print(len(train_split), len(val_split), len(test_split), total_len)\n",
        "\n",
        "  for t in train_split:\n",
        "    path_list = t.split('/')\n",
        "    train_split_subdir = os.path.join(*['/'.join(path_list[:-2]), 'train_split', path_list[-2]])\n",
        "    if not os.path.exists(train_split_subdir):\n",
        "      print(train_split_subdir)\n",
        "      os.makedirs(train_split_subdir)\n",
        "    shutil.copyfile(t, os.path.join(train_split_subdir, path_list[-1]))\n",
        "\n",
        "  for t in val_split:\n",
        "    path_list = t.split('/')\n",
        "    val_split_subdir = os.path.join(*['/'.join(path_list[:-2]), 'val_split', path_list[-2]])\n",
        "    if not os.path.exists(val_split_subdir):\n",
        "      print(val_split_subdir)\n",
        "      os.makedirs(val_split_subdir)\n",
        "    shutil.copyfile(t, os.path.join(val_split_subdir, path_list[-1]))\n",
        "  \n",
        "  for t in test_split:\n",
        "    path_list = t.split('/')\n",
        "    test_split_subdir = os.path.join(*['/'.join(path_list[:-2]), 'test_split', path_list[-2]])\n",
        "    if not os.path.exists(test_split_subdir):\n",
        "      print(test_split_subdir)\n",
        "      os.makedirs(test_split_subdir)\n",
        "    shutil.copyfile(t, os.path.join(test_split_subdir, path_list[-1]))\n",
        "  return train_split, val_split, test_split\n",
        "# train_split, val_split, test_split = make_train_val_splits()\n"
      ],
      "execution_count": null,
      "outputs": []
    },
    {
      "cell_type": "code",
      "metadata": {
        "id": "uL-n4mK9RKSB"
      },
      "source": [
        "train_dataset_path = '/content/gdrive/My Drive/Colab Notebooks/Lab_3b_Gesture_Dataset/train_split'\n",
        "val_dataset_path = '/content/gdrive/My Drive/Colab Notebooks/Lab_3b_Gesture_Dataset/val_split'\n",
        "test_dataset_path = '/content/gdrive/My Drive/Colab Notebooks/Lab_3b_Gesture_Dataset/test_split'\n",
        "transform = transforms.Compose([transforms.Resize((224,224)),\n",
        "                                transforms.ToTensor()])\n",
        "\n",
        "\n",
        "#load training data\n",
        "train_split = torchvision.datasets.ImageFolder(train_dataset_path, transform=transform)\n",
        "\n",
        "#load validation data\n",
        "val_split = torchvision.datasets.ImageFolder(val_dataset_path, transform=transform)\n",
        "\n",
        "#load testing data\n",
        "test_split = torchvision.datasets.ImageFolder(test_dataset_path, transform=transform)\n",
        "\n",
        "#prepare training Dataloader\n",
        "batch_size = 32\n",
        "num_workers = 0\n",
        "train_loader = torch.utils.data.DataLoader(train_split, batch_size=batch_size, \n",
        "                                          num_workers=num_workers, shuffle=True)\n",
        "#prepare validation dataloader\n",
        "val_loader = torch.utils.data.DataLoader(val_split, batch_size=batch_size, \n",
        "                                         num_workers=num_workers, shuffle=True)\n",
        "\n",
        "#prepare validation dataloader\n",
        "test_loader = torch.utils.data.DataLoader(test_split, batch_size=batch_size, \n",
        "                                         num_workers=num_workers, shuffle=True)\n",
        "\n",
        "classes = ['A', 'B', 'C', 'D', 'E', 'F', 'G', 'H', 'I']\n",
        "idx = 0\n",
        "fig = plt.figure(figsize=(25,4))\n",
        "for (images, labels) in train_loader:\n",
        "  if idx >= 20:\n",
        "    break\n",
        "  ax = fig.add_subplot(2, 20/2, idx+1, xticks=[], yticks=[])\n",
        "  plt.imshow(np.transpose(images[idx], (1,2,0)))\n",
        "  ax.set_title(classes[labels[idx]])\n",
        "  idx += 1\n",
        "\n",
        "  '''\n",
        "  I split the data by 80/20/20 for train/val/test splits. This is the standard\n",
        "  split ratio for datasets as you want enough data for the model is trained on, \n",
        "  and also enough data to ensure the testing/validation validity.\n",
        "    '''\n"
      ],
      "execution_count": null,
      "outputs": []
    },
    {
      "cell_type": "markdown",
      "metadata": {
        "id": "5VWX4DGY5gQE"
      },
      "source": [
        "### 2. Model Building and Sanity Checking [15 pt]\n",
        "\n",
        "### Part (a) Convolutional Network - 5 pt\n",
        "\n",
        "Build a convolutional neural network model that takes the (224x224 RGB) image as input, and predicts the gesture\n",
        "letter. Your model should be a subclass of nn.Module. Explain your choice of neural network architecture: how\n",
        "many layers did you choose? What types of layers did you use? Were they fully-connected or convolutional?\n",
        "What about other decisions like pooling layers, activation functions, number of channels / hidden units?"
      ]
    },
    {
      "cell_type": "code",
      "metadata": {
        "id": "2dtx1z5951fS"
      },
      "source": [
        "\n",
        "class CNNClassifier(nn.Module):\n",
        "    def __init__(self):\n",
        "        super(CNNClassifier, self).__init__()\n",
        "        self.conv1 = nn.Conv2d(3, 5, 5)\n",
        "        self.pool = nn.MaxPool2d(2, 2)\n",
        "        self.conv2 = nn.Conv2d(5, 10, 5)\n",
        "\n",
        "        self.fc1 = nn.Linear(10 * 53 * 53, 32)\n",
        "        self.fc2 = nn.Linear(32, 9)\n",
        "\n",
        "    def forward(self, img):\n",
        "        x = self.pool(F.relu(self.conv1(img)))\n",
        "        x = self.pool(F.relu(self.conv2(x)))\n",
        "        x = x.view(-1, 10 * 53 * 53)\n",
        "        x = F.relu(self.fc1(x))\n",
        "        x = self.fc2(x)\n",
        "        return x\n",
        "\n",
        "'''\n",
        "Answer: I used two Conv2D layer, 1 pooling layer after Conv1, and two fully connected layers after conv2.\n",
        "For Conv1 layer, I used kernel size 5x5, and set output channel as 3. Given that it should be an easy task,\n",
        "only a few convlutional kernels needs to be trained to identify the gesture, I only have conv1 to output\n",
        "5 features maps to make runtime faster.\n",
        "I used the pooling layer of kernel size 2 and stride 2 to reduce the dimensionality of the feature map output \n",
        "by conv1. For Conv2 I keep the 5x5 kernel, and set output channel to 10. \n",
        "\n",
        "The first FC layer takes a flattened output of 10*53*53 as input, and has a hidden layer of 32. The last FC\n",
        "layer has 9 neurons correponds with 9 classes.\n",
        "\n",
        "For activation function I used Relu for hidden layers. Relu is better than sigmoid/tanh for deep learning network\n",
        "since it doesn't have issue with gradient vanish, but introduce more non-linearity in the model.\n",
        "'''"
      ],
      "execution_count": null,
      "outputs": []
    },
    {
      "cell_type": "markdown",
      "metadata": {
        "id": "XeGvelvb515e"
      },
      "source": [
        "### Part (b) Training Code - 5 pt\n",
        "\n",
        "Write code that trains your neural network given some training data. Your training code should make it easy\n",
        "to tweak the usual hyperparameters, like batch size, learning rate, and the model object itself. Make sure\n",
        "that you are checkpointing your models from time to time (the frequency is up to you). Explain your choice\n",
        "of loss function and optimizer."
      ]
    },
    {
      "cell_type": "code",
      "metadata": {
        "id": "17YTQv4l54W1"
      },
      "source": [
        "import time\n",
        "\n",
        "def get_accuracy(model, data_loader):\n",
        "  correct = 0\n",
        "  total = 0\n",
        "  for (imgs, labels) in data_loader:\n",
        "    if torch.cuda.is_available():\n",
        "      imgs, labels = imgs.cuda(), labels.cuda()\n",
        "    output = model(imgs)\n",
        "    pred = output.max(1, keepdim=True)[1]\n",
        "    correct += pred.eq(labels.view_as(pred)).sum().item()\n",
        "    total += imgs.shape[0]\n",
        "  return correct/total\n",
        "\n",
        "def train(model, train_loader, val_loader=None, batch_size=27, epochs=10, learn_rate=0.001):\n",
        "  # torch.manual_seed(1000)\n",
        "  criterion = nn.CrossEntropyLoss()\n",
        "  optimizer = optim.Adam(model.parameters(), lr=learn_rate)\n",
        "  \n",
        "  train_acc, val_acc = [],[]\n",
        "  print('Training start')\n",
        "  model.train()\n",
        "  correct = 0\n",
        "  total=0\n",
        "  for epoch in range(epochs):\n",
        "    start = time.time()\n",
        "    for imgs, labels in train_loader:\n",
        "      if torch.cuda.is_available():\n",
        "        imgs = imgs.cuda()\n",
        "        labels = labels.cuda()\n",
        "      output = model(imgs)\n",
        "      pred = output.max(1, keepdim=True)[1]\n",
        "      correct += pred.eq(labels.view_as(pred)).sum().item()\n",
        "      total += imgs.shape[0]\n",
        "      loss = criterion(output, labels)\n",
        "      loss.backward()\n",
        "      optimizer.step()\n",
        "      optimizer.zero_grad()\n",
        "\n",
        "    model.eval()\n",
        "    cur_train_acc = correct/total\n",
        "    train_acc.append(cur_train_acc)\n",
        "\n",
        "    if val_loader is None:\n",
        "      print('epoch:{}, train acc:{}, time:{}'.format(epoch, cur_train_acc, time.time()- start))\n",
        "      continue\n",
        "    cur_val_acc = get_accuracy(model, val_loader)\n",
        "    val_acc.append(cur_val_acc)\n",
        "\n",
        "    print('epoch:{}, train acc:{}, val_acc:{}, time:{}'.format(epoch, cur_train_acc, cur_val_acc, time.time()- start))\n",
        "  return train_acc, val_acc\n"
      ],
      "execution_count": null,
      "outputs": []
    },
    {
      "cell_type": "code",
      "metadata": {
        "id": "Nfl8ioXDrYzQ"
      },
      "source": [
        "'''\n",
        "I choose Adam optimizer since it incoporates weight decay, and adaptive learning rate\n",
        "which is commonly used in SOTA, as it's more likely to avoid local minimums and saddle points.\n",
        "\n",
        "I choose cross-entropy loss as the loss function since we are doing multi-class classfication.\n",
        "'''"
      ],
      "execution_count": null,
      "outputs": []
    },
    {
      "cell_type": "markdown",
      "metadata": {
        "id": "bk1RNgAj54rZ"
      },
      "source": [
        "### Part (c) “Overfit” to a Small Dataset - 5 pt\n",
        "\n",
        "One way to sanity check our neural network model and training code is to check whether the model is capable\n",
        "of “overfitting” or “memorizing” a small dataset. A properly constructed CNN with correct training code\n",
        "should be able to memorize the answers to a small number of images quickly.\n",
        "\n",
        "Construct a small dataset (e.g. just the images that you have collected). Then show that your model and\n",
        "training code is capable of memorizing the labels of this small data set.\n",
        "\n",
        "With a large batch size (e.g. the entire small dataset) and learning rate that is not too high, You should be\n",
        "able to obtain a 100% training accuracy on that small dataset relatively quickly (within 200 iterations)."
      ]
    },
    {
      "cell_type": "code",
      "metadata": {
        "id": "lXYRBhQO6d3u"
      },
      "source": [
        "small_dataset_path = '/content/gdrive/My Drive/Colab Notebooks/Chen_1002942587/'\n",
        "small_dataset = torchvision.datasets.ImageFolder(small_dataset_path, transform=transform)\n",
        "small_loader = torch.utils.data.DataLoader(small_dataset, batch_size=batch_size, \n",
        "                                           num_workers=num_workers, shuffle=True)\n",
        "torch.manual_seed(1000) # set the random seed\n",
        "\n",
        "CNN = CNNClassifier()\n",
        "if torch.cuda.is_available():\n",
        "  print('training with GPU')\n",
        "  model = CNN.cuda()\n",
        "trian_acc, val_acc = train(model, small_loader, epochs=200, batch_size=27, learn_rate=0.001)\n",
        "\n",
        "'''\n",
        "The model can overfit to the small dataset as it can achieves 100% within 40 epochs.\n",
        "'''"
      ],
      "execution_count": null,
      "outputs": []
    },
    {
      "cell_type": "markdown",
      "metadata": {
        "id": "nvDLw-Vz6eVS"
      },
      "source": [
        "### 3. Hyperparameter Search [10 pt]\n",
        "\n",
        "### Part (a) - 1 pt\n",
        "\n",
        "List 3 hyperparameters that you think are most worth tuning. Choose at least one hyperparameter related to\n",
        "the model architecture."
      ]
    },
    {
      "cell_type": "code",
      "metadata": {
        "id": "HXRQbgMqR_Qy"
      },
      "source": [
        "'''\n",
        "batch_size: will test [24, 48, 64]\n",
        "learning_rate: will test [0.001,0.005,0.01]\n",
        "conv layer: will try [3x3,5x5,8x8]\n",
        "'''"
      ],
      "execution_count": null,
      "outputs": []
    },
    {
      "cell_type": "markdown",
      "metadata": {
        "id": "zeD6EzPB6kSW"
      },
      "source": [
        "### Part (b) - 5 pt\n",
        "\n",
        "Tune the hyperparameters you listed in Part (a), trying as many values as you need to until you feel satisfied\n",
        "that you are getting a good model. Plot the training curve of at least 4 different hyperparameter settings."
      ]
    },
    {
      "cell_type": "code",
      "metadata": {
        "id": "yTf7f2tfr-z1"
      },
      "source": [
        "def plot(train_acc, val_acc):\n",
        "    # plotting\n",
        "    iters = range(len(train_acc))\n",
        "    plt.title(\"Training Curve\")\n",
        "    plt.plot(iters, train_acc, label=\"Train\")\n",
        "    plt.plot(iters, val_acc, label=\"Validation\")\n",
        "    plt.xlabel(\"Iterations\")\n",
        "    plt.ylabel(\"Training Accuracy\")\n",
        "    plt.legend(loc='best')\n",
        "    plt.show()\n",
        "\n",
        "    print(\"Final Training Accuracy: {}\".format(train_acc[-1]))\n",
        "    print(\"Final Validation Accuracy: {}\".format(val_acc[-1]))"
      ],
      "execution_count": null,
      "outputs": []
    },
    {
      "cell_type": "code",
      "metadata": {
        "id": "UkvdR-cB6nzm"
      },
      "source": [
        "model = CNNClassifier()\n",
        "if torch.cuda.is_available(): \n",
        "  print('training wit GPU...')\n",
        "  model.cuda()\n",
        "train_acc, val_acc = train(model, train_loader, val_loader, batch_size=24, epochs=40)\n",
        "plot(train_acc, val_acc)"
      ],
      "execution_count": null,
      "outputs": []
    },
    {
      "cell_type": "code",
      "metadata": {
        "id": "k-R8CSvblkgv"
      },
      "source": [
        "model = CNNClassifier()\n",
        "if torch.cuda.is_available(): \n",
        "  print('training wit GPU...')\n",
        "  model.cuda()\n",
        "train_acc, val_acc = train(model, train_loader, val_loader, batch_size=48, epochs=40)\n",
        "plot(train_acc, val_acc)"
      ],
      "execution_count": null,
      "outputs": []
    },
    {
      "cell_type": "code",
      "metadata": {
        "id": "Ant1a5v8pjXx"
      },
      "source": [
        "model = CNNClassifier()\n",
        "if torch.cuda.is_available(): \n",
        "  print('training wit GPU...')\n",
        "  model.cuda()\n",
        "train_acc, val_acc = train(model, train_loader, val_loader, batch_size=64, epochs=40)\n",
        "plot(train_acc, val_acc)\n"
      ],
      "execution_count": null,
      "outputs": []
    },
    {
      "cell_type": "code",
      "metadata": {
        "id": "lyWatWmisdQ0"
      },
      "source": [
        "#Learning Rate 0.005\n",
        "model = CNNClassifier()\n",
        "if torch.cuda.is_available(): \n",
        "  print('training wit GPU...')\n",
        "  model.cuda()\n",
        "train_acc, val_acc = train(model, train_loader, val_loader, batch_size=24, epochs=40, learn_rate=0.005)\n",
        "plot(train_acc, val_acc)"
      ],
      "execution_count": null,
      "outputs": []
    },
    {
      "cell_type": "code",
      "metadata": {
        "id": "aOzO9Di0spzA"
      },
      "source": [
        "#Learning Rate 0.01\n",
        "model = CNNClassifier()\n",
        "if torch.cuda.is_available(): \n",
        "  print('training wit GPU...')\n",
        "  model.cuda()\n",
        "train_acc, val_acc = train(model, train_loader, val_loader, batch_size=24, epochs=40, learn_rate=0.01)\n",
        "plot(train_acc, val_acc)"
      ],
      "execution_count": null,
      "outputs": []
    },
    {
      "cell_type": "code",
      "metadata": {
        "id": "hEmZQgtQOT5f"
      },
      "source": [
        "class NewCNNClassifier(nn.Module):\n",
        "    def __init__(self):\n",
        "        super(NewCNNClassifier, self).__init__()\n",
        "        self.conv1 = nn.Conv2d(3, 5, 5)\n",
        "        self.pool = nn.MaxPool2d(2, 2)\n",
        "        self.conv2 = nn.Conv2d(5, 10, 5)\n",
        "\n",
        "        self.fc1 = nn.Linear(10 * 53 * 53, 32)\n",
        "        self.fc2 = nn.Linear(32, 9)\n",
        "\n",
        "    def forward(self, img):\n",
        "        x = self.pool(F.relu(self.conv1(img)))\n",
        "        x = self.pool(F.relu(self.conv2(x)))\n",
        "        # print(x.size())\n",
        "        x = x.view(-1, 10 * 53 * 53)\n",
        "        x = F.relu(self.fc1(x))\n",
        "        x = self.fc2(x)\n",
        "        return x"
      ],
      "execution_count": null,
      "outputs": []
    },
    {
      "cell_type": "code",
      "metadata": {
        "id": "EXkSf_T2tcA_"
      },
      "source": [
        "#different kernel size\n",
        "model = NewCNNClassifier()\n",
        "if torch.cuda.is_available(): \n",
        "  print('training wit GPU...')\n",
        "  model.cuda()\n",
        "train_acc, val_acc = train(model, train_loader, val_loader, batch_size=24, epochs=40, learn_rate=0.001)\n",
        "plot(train_acc, val_acc)"
      ],
      "execution_count": null,
      "outputs": []
    },
    {
      "cell_type": "code",
      "metadata": {
        "id": "Nk-LT12ggSn9"
      },
      "source": [
        "#kernel size = 8\n",
        "class NewCNNClassifier(nn.Module):\n",
        "    def __init__(self):\n",
        "        super(NewCNNClassifier, self).__init__()\n",
        "        self.conv1 = nn.Conv2d(3, 5, 8)\n",
        "        self.pool = nn.MaxPool2d(2, 2)\n",
        "        self.conv2 = nn.Conv2d(5, 10, 8)\n",
        "\n",
        "        self.fc1 = nn.Linear(10 * 50 * 50, 32)\n",
        "        self.fc2 = nn.Linear(32, 9)\n",
        "\n",
        "    def forward(self, img):\n",
        "        x = self.pool(F.relu(self.conv1(img)))\n",
        "        x = self.pool(F.relu(self.conv2(x)))\n",
        "        # print(x.size())\n",
        "        x = x.view(-1, 10 * 50 * 50)\n",
        "        x = F.relu(self.fc1(x))\n",
        "        x = self.fc2(x)\n",
        "        return x"
      ],
      "execution_count": null,
      "outputs": []
    },
    {
      "cell_type": "code",
      "metadata": {
        "id": "1hqLQ0rOgXts"
      },
      "source": [
        "#different kernel size\n",
        "model = NewCNNClassifier()\n",
        "if torch.cuda.is_available(): \n",
        "  print('training wit GPU...')\n",
        "  model.cuda()\n",
        "train_acc, val_acc = train(model, train_loader, val_loader, batch_size=24, epochs=40, learn_rate=0.001)\n",
        "plot(train_acc, val_acc)\n"
      ],
      "execution_count": null,
      "outputs": []
    },
    {
      "cell_type": "markdown",
      "metadata": {
        "id": "H93iN5_l60BO"
      },
      "source": [
        "### Part (c) - 2 pt\n",
        "Choose the best model out of all the ones that you have trained. Justify your choice."
      ]
    },
    {
      "cell_type": "code",
      "metadata": {
        "id": "kIhcN7IG6zRO"
      },
      "source": [
        "'''\n",
        "The best model uses the epoch 40, learning_rate = 0.001, and batch_size=24,\n",
        "It achieves a training accuracy of 89% and validation accuracy of 78%\n",
        "'''"
      ],
      "execution_count": null,
      "outputs": []
    },
    {
      "cell_type": "markdown",
      "metadata": {
        "id": "QzNA5oup67JO"
      },
      "source": [
        "### Part (d) - 2 pt\n",
        "Report the test accuracy of your best model. You should only do this step once and prior to this step you should have only used the training and validation data."
      ]
    },
    {
      "cell_type": "code",
      "metadata": {
        "id": "2eJ7AbVl6-ax"
      },
      "source": [
        "test_acc = get_accuracy(model, test_loader)\n",
        "print(test_acc)\n",
        "\n",
        "'''\n",
        "The final testing accuracy is 79%\n",
        "'''"
      ],
      "execution_count": null,
      "outputs": []
    },
    {
      "cell_type": "markdown",
      "metadata": {
        "id": "Wrem-iXV6_Bz"
      },
      "source": [
        "### 4. Transfer Learning [15 pt]\n",
        "For many image classification tasks, it is generally not a good idea to train a very large deep neural network\n",
        "model from scratch due to the enormous compute requirements and lack of sufficient amounts of training\n",
        "data.\n",
        "\n",
        "One of the better options is to try using an existing model that performs a similar task to the one you need\n",
        "to solve. This method of utilizing a pre-trained network for other similar tasks is broadly termed **Transfer\n",
        "Learning**. In this assignment, we will use Transfer Learning to extract features from the hand gesture\n",
        "images. Then, train a smaller network to use these features as input and classify the hand gestures.\n",
        "\n",
        "As you have learned from the CNN lecture, convolution layers extract various features from the images which\n",
        "get utilized by the fully connected layers for correct classification. AlexNet architecture played a pivotal\n",
        "role in establishing Deep Neural Nets as a go-to tool for image classification problems and we will use an\n",
        "ImageNet pre-trained AlexNet model to extract features in this assignment."
      ]
    },
    {
      "cell_type": "markdown",
      "metadata": {
        "id": "rWdQJz4Q7O2F"
      },
      "source": [
        "### Part (a) - 5 pt\n",
        "Here is the code to load the AlexNet network, with pretrained weights. When you first run the code, PyTorch\n",
        "will download the pretrained weights from the internet."
      ]
    },
    {
      "cell_type": "code",
      "metadata": {
        "id": "BJKcTW9C7TZk"
      },
      "source": [
        "import torchvision.models\n",
        "alexnet = torchvision.models.alexnet(pretrained=True)"
      ],
      "execution_count": null,
      "outputs": []
    },
    {
      "cell_type": "markdown",
      "metadata": {
        "id": "NQ0GZYaP7VAR"
      },
      "source": [
        "The alexnet model is split up into two components: *alexnet.features* and *alexnet.classifier*. The\n",
        "first neural network component, *alexnet.features*, is used to compute convolutional features, which are\n",
        "taken as input in *alexnet.classifier*.\n",
        "\n",
        "The neural network alexnet.features expects an image tensor of shape Nx3x224x224 as input and it will\n",
        "output a tensor of shape Nx256x6x6 . (N = batch size).\n",
        "\n",
        "Compute the AlexNet features for each of your training, validation, and test data. Here is an example code\n",
        "snippet showing how you can compute the AlexNet features for some images (your actual code might be\n",
        "different):"
      ]
    },
    {
      "cell_type": "code",
      "metadata": {
        "id": "oX7SjVdB7XAE"
      },
      "source": [
        "# img = ... a PyTorch tensor with shape [N,3,224,224] containing hand images ...\n",
        "# features = alexnet.features(img)"
      ],
      "execution_count": null,
      "outputs": []
    },
    {
      "cell_type": "markdown",
      "metadata": {
        "id": "DYcjHg_A7cCM"
      },
      "source": [
        "**Save the computed features**. You will be using these features as input to your neural network in Part\n",
        "(b), and you do not want to re-compute the features every time. Instead, run *alexnet.features* once for\n",
        "each image, and save the result."
      ]
    },
    {
      "cell_type": "code",
      "metadata": {
        "id": "TBo1BpL373LX"
      },
      "source": [
        "train_features = []\n",
        "val_features = []\n",
        "for img, label in train_loader:\n",
        "  feat = alexnet.features(img)\n",
        "  train_features.append((feat, label))\n",
        "\n",
        "for img, label in val_loader:\n",
        "  feat = alexnet.features(img)\n",
        "  val_features.append((feat, label))\n",
        "\n",
        "import pickle\n",
        "pickle.dump(train_features, open('train.pkl', 'wb'))\n",
        "pickle.dump(val_features, open('val.pkl','wb'))\n",
        "print('done')\n",
        "print(os.listdir('.'))"
      ],
      "execution_count": null,
      "outputs": []
    },
    {
      "cell_type": "markdown",
      "metadata": {
        "id": "OFWvvhFN73qY"
      },
      "source": [
        "### Part (b) - 3 pt\n",
        "Build a convolutional neural network model that takes as input these AlexNet features, and makes a\n",
        "prediction. Your model should be a subclass of nn.Module.\n",
        "\n",
        "Explain your choice of neural network architecture: how many layers did you choose? What types of layers\n",
        "did you use: fully-connected or convolutional? What about other decisions like pooling layers, activation\n",
        "functions, number of channels / hidden units in each layer?\n",
        "\n",
        "Here is an example of how your model may be called:"
      ]
    },
    {
      "cell_type": "code",
      "metadata": {
        "id": "oVTuHUeV78-U"
      },
      "source": [
        "# features = ... load precomputed alexnet.features(img) ...\n",
        "# output = model(features)\n",
        "# prob = F.softmax(output)\n",
        "\n",
        "class Classifier(nn.Module):\n",
        "  def __init__(self):\n",
        "    super(Classifier, self).__init__()\n",
        "    self.layer1 = nn.Linear(256*6*6,1024)\n",
        "    self.layer2 = nn.Linear(1024,128)\n",
        "    self.layer3 = nn.Linear(128, 9)\n",
        "  \n",
        "  def forward(self, x):\n",
        "    # print('inside',x.size())\n",
        "    x = x.view(-1, 256 * 6 * 6)\n",
        "    x = F.relu(self.layer1(x))\n",
        "    x = F.relu(self.layer2(x))\n",
        "    x = self.layer3(x)\n",
        "\n",
        "    return x\n",
        "\n",
        "'''\n",
        "I used a 2-layered ANN, with 2 FC layer. This should be sufficient for classifier heads\n",
        "for transfer learning. \n",
        "The size of the first hidden layer is 1024 and the second layer is 128. \n",
        "The output from the classifier has size of 9 to classify 9 different gestures.\n",
        "I used ReLu as the activation function, which is the common practice for neural network.\n",
        "\n",
        "'''"
      ],
      "execution_count": null,
      "outputs": []
    },
    {
      "cell_type": "markdown",
      "metadata": {
        "id": "wVAGuURu7-9q"
      },
      "source": [
        "### Part (c) - 5 pt\n",
        "Train your new network, including any hyperparameter tuning. Plot and submit the training curve of your\n",
        "best model only.\n",
        "\n",
        "Note: Depending on how you are caching (saving) your AlexNet features, PyTorch might still be tracking\n",
        "updates to the **AlexNet weights**, which we are not tuning. One workaround is to convert your AlexNet\n",
        "feature tensor into a numpy array, and then back into a PyTorch tensor."
      ]
    },
    {
      "cell_type": "code",
      "metadata": {
        "id": "JCmiH11x7-q1"
      },
      "source": [
        "# tensor = torch.from_numpy(tensor.detach().numpy())\n",
        "\n",
        "import time\n",
        "\n",
        "def get_accuracy(model, features):\n",
        "  correct = 0\n",
        "  total = 0\n",
        "  for (imgs, labels) in features:\n",
        "    imgs = torch.from_numpy(imgs.detach().numpy())\n",
        "    if torch.cuda.is_available():\n",
        "      imgs, labels = imgs.cuda(), labels.cuda()\n",
        "    output = model(imgs)\n",
        "    pred = output.max(1, keepdim=True)[1]\n",
        "    correct += pred.eq(labels.view_as(pred)).sum().item()\n",
        "    total += imgs.shape[0]\n",
        "  return correct/total\n",
        "\n",
        "def train_classifier(model, batch_size=27, epochs=40, learn_rate=0.001):\n",
        "  torch.manual_seed(1000)\n",
        "  criterion = nn.CrossEntropyLoss()\n",
        "  optimizer = optim.Adam(model.parameters(), lr=learn_rate)\n",
        "  train_features = pickle.load(open('train.pkl', 'rb'))\n",
        "  val_features = pickle.load(open('val.pkl','rb'))\n",
        "\n",
        "  train_acc, val_acc = [],[]\n",
        "  print('Training start')\n",
        "  model.train()\n",
        "  correct = 0\n",
        "  total=0\n",
        "  for epoch in range(epochs):\n",
        "    start = time.time()\n",
        "    for imgs, labels in train_features:\n",
        "      # imgs = torch.from_numpy(imgs.detach().numpy())\n",
        "      # labels = torch.from_numpy(imgs.detach().numpy())\n",
        "      # print(epoch, imgs.size(), labels.size())\n",
        "      if torch.cuda.is_available():\n",
        "        imgs = imgs.cuda()\n",
        "        labels = labels.cuda()\n",
        "      output = model(imgs)\n",
        "      total += imgs.shape[0]\n",
        "      loss = criterion(output, labels)\n",
        "      loss.backward()\n",
        "      optimizer.step()\n",
        "      optimizer.zero_grad()\n",
        "\n",
        "      pred = output.max(1, keepdim=True)[1]\n",
        "      correct += pred.eq(labels.view_as(pred)).sum().item()\n",
        "\n",
        "    model.eval()\n",
        "    cur_train_acc = correct/total\n",
        "    train_acc.append(cur_train_acc)\n",
        "\n",
        "    if val_loader is None:\n",
        "      print('epoch:{}, train acc:{}, time:{}'.format(epoch, cur_train_acc, time.time()- start))\n",
        "      continue\n",
        "    cur_val_acc = get_accuracy(model, val_features)\n",
        "    val_acc.append(cur_val_acc)\n",
        "\n",
        "    print('epoch:{}, train acc:{}, val_acc:{}, time:{}'.format(epoch, cur_train_acc, cur_val_acc, time.time()- start))\n",
        "  return train_acc, val_acc\n"
      ],
      "execution_count": null,
      "outputs": []
    },
    {
      "cell_type": "code",
      "metadata": {
        "id": "RGkaqgcD4dcL"
      },
      "source": [
        "#batch_size = 24\n",
        "model = Classifier()\n",
        "if torch.cuda.is_available(): \n",
        "  print('training on GPU')\n",
        "  model.cuda()\n",
        "train_acc, val_acc=train_classifier(model, batch_size=24)\n",
        "plot(train_acc, val_acc)"
      ],
      "execution_count": null,
      "outputs": []
    },
    {
      "cell_type": "code",
      "metadata": {
        "id": "OjQZS4ew5ISw"
      },
      "source": [
        "#batch_size = 48\n",
        "model=Classifier()\n",
        "if torch.cuda.is_available(): model.cuda()\n",
        "train_acc, val_acc = train_classifier(model, batch_size=48)\n",
        "plot(train_acc, val_acc)\n"
      ],
      "execution_count": null,
      "outputs": []
    },
    {
      "cell_type": "code",
      "metadata": {
        "id": "Oy2A6zCi5Rd8"
      },
      "source": [
        "#batch_size = 64\n",
        "model=Classifier()\n",
        "if torch.cuda.is_available(): model.cuda()\n",
        "train_acc, val_acc = train_classifier(model, batch_size=64)"
      ],
      "execution_count": null,
      "outputs": []
    },
    {
      "cell_type": "code",
      "metadata": {
        "id": "k3SxD0485fQs"
      },
      "source": [
        "#learning_rate=0.005\n",
        "model=Classifier()\n",
        "if torch.cuda.is_available(): model.cuda()\n",
        "train_acc, val_acc = train_classifier(model, batch_size=24, learn_rate=0.005)\n",
        "plot(train_acc, val_acc)"
      ],
      "execution_count": null,
      "outputs": []
    },
    {
      "cell_type": "code",
      "metadata": {
        "id": "yCp_kFSg8Q2T"
      },
      "source": [
        "#learning_rate=0.01\n",
        "model=Classifier()\n",
        "if torch.cuda.is_available(): model.cuda()\n",
        "train_acc, val_acc = train_classifier(model, batch_size=24, learn_rate=0.01)\n",
        "plot(train_acc, val_acc)"
      ],
      "execution_count": null,
      "outputs": []
    },
    {
      "cell_type": "code",
      "metadata": {
        "id": "PDMvEDcdDHve"
      },
      "source": [
        "#learning_rate=0.0001\n",
        "model=Classifier()\n",
        "if torch.cuda.is_available(): model.cuda()\n",
        "train_acc, val_acc = train_classifier(model, batch_size=24, learn_rate=0.0001)\n",
        "plot(train_acc, val_acc)"
      ],
      "execution_count": null,
      "outputs": []
    },
    {
      "cell_type": "code",
      "metadata": {
        "id": "BgnKsjjmDT5i"
      },
      "source": [
        "#learning_rate=0.0001 batch_size 48\n",
        "import pickle\n",
        "print(os.listdir('.'))\n",
        "model=Classifier()\n",
        "if torch.cuda.is_available(): model.cuda()\n",
        "train_acc, val_acc = train_classifier(model, batch_size=48, learn_rate=0.0001, epochs=40)\n",
        "best_model=model\n",
        "plot(train_acc, val_acc)"
      ],
      "execution_count": null,
      "outputs": []
    },
    {
      "cell_type": "markdown",
      "metadata": {
        "id": "hQ2tvqJ68Mqb"
      },
      "source": [
        "### Part (d) - 2 pt\n",
        "Report the test accuracy of your best model. How does the test accuracy compare to Part 3(d) without transfer learning?"
      ]
    },
    {
      "cell_type": "code",
      "metadata": {
        "id": "lwXPYbG2sXA9"
      },
      "source": [
        "test_features = []\n",
        "for img, label in test_loader:\n",
        "  feat = alexnet.features(img)\n",
        "  test_features.append((feat, label))\n",
        "\n",
        "test_accuracy = get_accuracy(best_model, test_features)\n",
        "print('test accuracy:', test_accuracy)\n",
        "\n",
        "'''\n",
        "The final test accuracy is 94.3%, which is much higher than 78%. It shows that transfer\n",
        "learning gives much better results than training from scratch. \n",
        "'''"
      ],
      "execution_count": null,
      "outputs": []
    },
    {
      "cell_type": "markdown",
      "metadata": {
        "id": "8ol1TtH63s-3"
      },
      "source": [
        "### 5. Additional Testing [5 pt]\n",
        "As a final step in testing we will be revisiting the sample images that you had collected and submitted at the start of this lab. These sample images should be untouched and will be used to demonstrate how well your model works at identifying your hand guestures. \n",
        "\n",
        "Using the best transfer learning model developed in Part 4. Report the test accuracy on your sample images and how it compares to the test accuracy obtained in Part 4(d)? How well did your model do for the different hand guestures? Provide an explanation for why you think your model performed the way it did?"
      ]
    },
    {
      "cell_type": "code",
      "metadata": {
        "id": "6E3Dpm2r3s-4"
      },
      "source": [
        "def get_accuracy(model, features):\n",
        "  correct = 0\n",
        "  total = 0\n",
        "  for (imgs, labels) in features:\n",
        "    imgs = torch.from_numpy(imgs.detach().numpy())\n",
        "    if torch.cuda.is_available():\n",
        "      imgs, labels = imgs.cuda(), labels.cuda()\n",
        "    output = model(imgs)\n",
        "    pred = output.max(1, keepdim=True)[1]\n",
        "    correct += pred.eq(labels.view_as(pred)).sum().item()\n",
        "    total += imgs.shape[0]\n",
        "  return correct/total\n",
        "\n",
        "small_features = []\n",
        "for img, label in small_loader:\n",
        "  feat = alexnet.features(img)\n",
        "  small_features.append((feat, label))\n",
        "get_accuracy(best_model, small_features)  \n",
        "\n",
        "'''\n",
        "The best transfer learning model achieved 100% testing accuracy, and get all 9 classes\n",
        "correct. It is better than the results in 4d. This because the test set is much smaller \n",
        "than val set. Also using pretrained weights gives the model a head start as it has \n",
        "already learned how to extract useful infomation from the pre-training. And the performance\n",
        "is further improved by finetuning a classifier head on the hand gesture dataset.\n",
        "The final results using pretrained weights is 20% better than training from scratch'''"
      ],
      "execution_count": null,
      "outputs": []
    }
  ]
}